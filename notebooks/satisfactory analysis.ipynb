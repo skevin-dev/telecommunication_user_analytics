{
 "cells": [
  {
   "cell_type": "code",
   "execution_count": 1,
   "id": "42d6c137",
   "metadata": {},
   "outputs": [],
   "source": [
    "import warnings \n",
    "import pandas as pd\n",
    "import numpy as np\n",
    "import sys\n",
    "sys.path.append(\"..\")\n",
    "import seaborn as sns\n",
    "import matplotlib.pyplot as plt \n",
    "from sklearn.cluster import KMeans\n",
    "warnings.filterwarnings(\"ignore\")"
   ]
  },
  {
   "cell_type": "code",
   "execution_count": 2,
   "id": "27830dfd",
   "metadata": {},
   "outputs": [],
   "source": [
    "from scripts.data_read import read_data\n",
    "from scripts.normalization import normalize_data"
   ]
  },
  {
   "cell_type": "code",
   "execution_count": 8,
   "id": "5936a8dd",
   "metadata": {},
   "outputs": [
    {
     "data": {
      "text/html": [
       "<div>\n",
       "<style scoped>\n",
       "    .dataframe tbody tr th:only-of-type {\n",
       "        vertical-align: middle;\n",
       "    }\n",
       "\n",
       "    .dataframe tbody tr th {\n",
       "        vertical-align: top;\n",
       "    }\n",
       "\n",
       "    .dataframe thead th {\n",
       "        text-align: right;\n",
       "    }\n",
       "</style>\n",
       "<table border=\"1\" class=\"dataframe\">\n",
       "  <thead>\n",
       "    <tr style=\"text-align: right;\">\n",
       "      <th></th>\n",
       "      <th>MSISDN/Number</th>\n",
       "      <th>Handset Type</th>\n",
       "      <th>Average TCP retransmission</th>\n",
       "      <th>Average RTT</th>\n",
       "      <th>Average throughput</th>\n",
       "    </tr>\n",
       "  </thead>\n",
       "  <tbody>\n",
       "    <tr>\n",
       "      <th>0</th>\n",
       "      <td>33664962239</td>\n",
       "      <td>Samsung Galaxy A5 Sm-A520F</td>\n",
       "      <td>21569.572935</td>\n",
       "      <td>47.000000</td>\n",
       "      <td>67.0</td>\n",
       "    </tr>\n",
       "    <tr>\n",
       "      <th>1</th>\n",
       "      <td>33681854413</td>\n",
       "      <td>Samsung Galaxy J5 (Sm-J530)</td>\n",
       "      <td>21569.572935</td>\n",
       "      <td>70.000000</td>\n",
       "      <td>42.0</td>\n",
       "    </tr>\n",
       "    <tr>\n",
       "      <th>2</th>\n",
       "      <td>33760627129</td>\n",
       "      <td>Samsung Galaxy A8 (2018)</td>\n",
       "      <td>21569.572935</td>\n",
       "      <td>127.458589</td>\n",
       "      <td>15.0</td>\n",
       "    </tr>\n",
       "    <tr>\n",
       "      <th>3</th>\n",
       "      <td>33750343200</td>\n",
       "      <td>undefined</td>\n",
       "      <td>21569.572935</td>\n",
       "      <td>127.458589</td>\n",
       "      <td>88.0</td>\n",
       "    </tr>\n",
       "    <tr>\n",
       "      <th>4</th>\n",
       "      <td>33699795932</td>\n",
       "      <td>Samsung Sm-G390F</td>\n",
       "      <td>21569.572935</td>\n",
       "      <td>127.458589</td>\n",
       "      <td>15.0</td>\n",
       "    </tr>\n",
       "  </tbody>\n",
       "</table>\n",
       "</div>"
      ],
      "text/plain": [
       "   MSISDN/Number                 Handset Type  Average TCP retransmission  \\\n",
       "0    33664962239   Samsung Galaxy A5 Sm-A520F                21569.572935   \n",
       "1    33681854413  Samsung Galaxy J5 (Sm-J530)                21569.572935   \n",
       "2    33760627129     Samsung Galaxy A8 (2018)                21569.572935   \n",
       "3    33750343200                    undefined                21569.572935   \n",
       "4    33699795932             Samsung Sm-G390F                21569.572935   \n",
       "\n",
       "   Average RTT  Average throughput  \n",
       "0    47.000000                67.0  \n",
       "1    70.000000                42.0  \n",
       "2   127.458589                15.0  \n",
       "3   127.458589                88.0  \n",
       "4   127.458589                15.0  "
      ]
     },
     "execution_count": 8,
     "metadata": {},
     "output_type": "execute_result"
    }
   ],
   "source": [
    "df = read_data(\"../data/experience_data.csv\")\n",
    "df.head()"
   ]
  },
  {
   "cell_type": "code",
   "execution_count": 11,
   "id": "029e23b0",
   "metadata": {},
   "outputs": [
    {
     "data": {
      "text/plain": [
       "MSISDN/Number                 0\n",
       "Handset Type                  0\n",
       "Average TCP retransmission    0\n",
       "Average RTT                   0\n",
       "Average throughput            0\n",
       "dtype: int64"
      ]
     },
     "execution_count": 11,
     "metadata": {},
     "output_type": "execute_result"
    }
   ],
   "source": [
    "df.isna().sum()"
   ]
  },
  {
   "cell_type": "code",
   "execution_count": 12,
   "id": "aecb80c3",
   "metadata": {},
   "outputs": [
    {
     "name": "stdout",
     "output_type": "stream",
     "text": [
      "<class 'pandas.core.frame.DataFrame'>\n",
      "RangeIndex: 150001 entries, 0 to 150000\n",
      "Data columns (total 5 columns):\n",
      " #   Column                      Non-Null Count   Dtype  \n",
      "---  ------                      --------------   -----  \n",
      " 0   MSISDN/Number               150001 non-null  int64  \n",
      " 1   Handset Type                150001 non-null  object \n",
      " 2   Average TCP retransmission  150001 non-null  float64\n",
      " 3   Average RTT                 150001 non-null  float64\n",
      " 4   Average throughput          150001 non-null  float64\n",
      "dtypes: float64(3), int64(1), object(1)\n",
      "memory usage: 5.7+ MB\n"
     ]
    }
   ],
   "source": [
    "df.info()"
   ]
  },
  {
   "cell_type": "code",
   "execution_count": 13,
   "id": "01b1f5f6",
   "metadata": {},
   "outputs": [],
   "source": [
    "df_used = df.iloc[:,2:]"
   ]
  },
  {
   "cell_type": "markdown",
   "id": "9afaa5c3",
   "metadata": {},
   "source": [
    "###### normalizing data "
   ]
  },
  {
   "cell_type": "code",
   "execution_count": 18,
   "id": "91e0b0d2",
   "metadata": {},
   "outputs": [],
   "source": [
    "standarlized_data = normalize_data.standardizer(df_used)"
   ]
  },
  {
   "cell_type": "markdown",
   "id": "4dec7e93",
   "metadata": {},
   "source": [
    "###### clustering "
   ]
  },
  {
   "cell_type": "code",
   "execution_count": 19,
   "id": "4b1826b4",
   "metadata": {},
   "outputs": [],
   "source": [
    "kmeans = KMeans(n_clusters=3, random_state=0).fit(standarlized_data)"
   ]
  },
  {
   "cell_type": "markdown",
   "id": "d8a1410e",
   "metadata": {},
   "source": [
    "###### add clusters to dataframe "
   ]
  },
  {
   "cell_type": "code",
   "execution_count": 20,
   "id": "b1b43971",
   "metadata": {},
   "outputs": [],
   "source": [
    "df_used['clusters'] = kmeans.labels_"
   ]
  },
  {
   "cell_type": "code",
   "execution_count": 21,
   "id": "0dac89bf",
   "metadata": {},
   "outputs": [
    {
     "data": {
      "text/html": [
       "<div>\n",
       "<style scoped>\n",
       "    .dataframe tbody tr th:only-of-type {\n",
       "        vertical-align: middle;\n",
       "    }\n",
       "\n",
       "    .dataframe tbody tr th {\n",
       "        vertical-align: top;\n",
       "    }\n",
       "\n",
       "    .dataframe thead th {\n",
       "        text-align: right;\n",
       "    }\n",
       "</style>\n",
       "<table border=\"1\" class=\"dataframe\">\n",
       "  <thead>\n",
       "    <tr style=\"text-align: right;\">\n",
       "      <th></th>\n",
       "      <th>Average TCP retransmission</th>\n",
       "      <th>Average RTT</th>\n",
       "      <th>Average throughput</th>\n",
       "      <th>clusters</th>\n",
       "    </tr>\n",
       "  </thead>\n",
       "  <tbody>\n",
       "    <tr>\n",
       "      <th>0</th>\n",
       "      <td>21569.572935</td>\n",
       "      <td>47.000000</td>\n",
       "      <td>67.000000</td>\n",
       "      <td>2</td>\n",
       "    </tr>\n",
       "    <tr>\n",
       "      <th>1</th>\n",
       "      <td>21569.572935</td>\n",
       "      <td>70.000000</td>\n",
       "      <td>42.000000</td>\n",
       "      <td>2</td>\n",
       "    </tr>\n",
       "    <tr>\n",
       "      <th>2</th>\n",
       "      <td>21569.572935</td>\n",
       "      <td>127.458589</td>\n",
       "      <td>15.000000</td>\n",
       "      <td>0</td>\n",
       "    </tr>\n",
       "    <tr>\n",
       "      <th>3</th>\n",
       "      <td>21569.572935</td>\n",
       "      <td>127.458589</td>\n",
       "      <td>88.000000</td>\n",
       "      <td>0</td>\n",
       "    </tr>\n",
       "    <tr>\n",
       "      <th>4</th>\n",
       "      <td>21569.572935</td>\n",
       "      <td>127.458589</td>\n",
       "      <td>15.000000</td>\n",
       "      <td>0</td>\n",
       "    </tr>\n",
       "    <tr>\n",
       "      <th>...</th>\n",
       "      <td>...</td>\n",
       "      <td>...</td>\n",
       "      <td>...</td>\n",
       "      <td>...</td>\n",
       "    </tr>\n",
       "    <tr>\n",
       "      <th>149996</th>\n",
       "      <td>21569.572935</td>\n",
       "      <td>32.000000</td>\n",
       "      <td>117.000000</td>\n",
       "      <td>2</td>\n",
       "    </tr>\n",
       "    <tr>\n",
       "      <th>149997</th>\n",
       "      <td>21569.572935</td>\n",
       "      <td>29.000000</td>\n",
       "      <td>77.000000</td>\n",
       "      <td>2</td>\n",
       "    </tr>\n",
       "    <tr>\n",
       "      <th>149998</th>\n",
       "      <td>21569.572935</td>\n",
       "      <td>49.000000</td>\n",
       "      <td>90.000000</td>\n",
       "      <td>2</td>\n",
       "    </tr>\n",
       "    <tr>\n",
       "      <th>149999</th>\n",
       "      <td>21569.572935</td>\n",
       "      <td>42.000000</td>\n",
       "      <td>71.000000</td>\n",
       "      <td>2</td>\n",
       "    </tr>\n",
       "    <tr>\n",
       "      <th>150000</th>\n",
       "      <td>21569.572935</td>\n",
       "      <td>127.458589</td>\n",
       "      <td>15070.474573</td>\n",
       "      <td>0</td>\n",
       "    </tr>\n",
       "  </tbody>\n",
       "</table>\n",
       "<p>150001 rows × 4 columns</p>\n",
       "</div>"
      ],
      "text/plain": [
       "        Average TCP retransmission  Average RTT  Average throughput  clusters\n",
       "0                     21569.572935    47.000000           67.000000         2\n",
       "1                     21569.572935    70.000000           42.000000         2\n",
       "2                     21569.572935   127.458589           15.000000         0\n",
       "3                     21569.572935   127.458589           88.000000         0\n",
       "4                     21569.572935   127.458589           15.000000         0\n",
       "...                            ...          ...                 ...       ...\n",
       "149996                21569.572935    32.000000          117.000000         2\n",
       "149997                21569.572935    29.000000           77.000000         2\n",
       "149998                21569.572935    49.000000           90.000000         2\n",
       "149999                21569.572935    42.000000           71.000000         2\n",
       "150000                21569.572935   127.458589        15070.474573         0\n",
       "\n",
       "[150001 rows x 4 columns]"
      ]
     },
     "execution_count": 21,
     "metadata": {},
     "output_type": "execute_result"
    }
   ],
   "source": [
    "df_used"
   ]
  },
  {
   "cell_type": "markdown",
   "id": "feb8549f",
   "metadata": {},
   "source": [
    "###### aggregate per cluster to see less engaged cluster "
   ]
  },
  {
   "cell_type": "code",
   "execution_count": 22,
   "id": "1abe9d6a",
   "metadata": {},
   "outputs": [],
   "source": [
    "df_agg_clusters = df_used.groupby('clusters').agg({'Average TCP retransmission':'mean','Average RTT':'mean','Average throughput':'mean'}) "
   ]
  },
  {
   "cell_type": "code",
   "execution_count": 23,
   "id": "b8ffa595",
   "metadata": {},
   "outputs": [
    {
     "data": {
      "text/html": [
       "<div>\n",
       "<style scoped>\n",
       "    .dataframe tbody tr th:only-of-type {\n",
       "        vertical-align: middle;\n",
       "    }\n",
       "\n",
       "    .dataframe tbody tr th {\n",
       "        vertical-align: top;\n",
       "    }\n",
       "\n",
       "    .dataframe thead th {\n",
       "        text-align: right;\n",
       "    }\n",
       "</style>\n",
       "<table border=\"1\" class=\"dataframe\">\n",
       "  <thead>\n",
       "    <tr style=\"text-align: right;\">\n",
       "      <th></th>\n",
       "      <th>Average TCP retransmission</th>\n",
       "      <th>Average RTT</th>\n",
       "      <th>Average throughput</th>\n",
       "    </tr>\n",
       "    <tr>\n",
       "      <th>clusters</th>\n",
       "      <th></th>\n",
       "      <th></th>\n",
       "      <th></th>\n",
       "    </tr>\n",
       "  </thead>\n",
       "  <tbody>\n",
       "    <tr>\n",
       "      <th>0</th>\n",
       "      <td>24744.482281</td>\n",
       "      <td>131.417720</td>\n",
       "      <td>2522.716211</td>\n",
       "    </tr>\n",
       "    <tr>\n",
       "      <th>1</th>\n",
       "      <td>25846.765661</td>\n",
       "      <td>80.810383</td>\n",
       "      <td>39972.360512</td>\n",
       "    </tr>\n",
       "    <tr>\n",
       "      <th>2</th>\n",
       "      <td>18527.426890</td>\n",
       "      <td>45.981731</td>\n",
       "      <td>2290.060516</td>\n",
       "    </tr>\n",
       "  </tbody>\n",
       "</table>\n",
       "</div>"
      ],
      "text/plain": [
       "          Average TCP retransmission  Average RTT  Average throughput\n",
       "clusters                                                             \n",
       "0                       24744.482281   131.417720         2522.716211\n",
       "1                       25846.765661    80.810383        39972.360512\n",
       "2                       18527.426890    45.981731         2290.060516"
      ]
     },
     "execution_count": 23,
     "metadata": {},
     "output_type": "execute_result"
    }
   ],
   "source": [
    "df_agg_clusters"
   ]
  },
  {
   "cell_type": "markdown",
   "id": "efa79462",
   "metadata": {},
   "source": [
    "cluster 1 is less engaged since it has high TCP and TP but less RTT "
   ]
  },
  {
   "cell_type": "code",
   "execution_count": 24,
   "id": "d12fa51e",
   "metadata": {},
   "outputs": [],
   "source": [
    "#slice cluster 1"
   ]
  },
  {
   "cell_type": "code",
   "execution_count": 25,
   "id": "a208a4f9",
   "metadata": {},
   "outputs": [],
   "source": [
    "df_cluster_less_engaged = df_used[df_used['clusters']==1]"
   ]
  },
  {
   "cell_type": "code",
   "execution_count": 26,
   "id": "7d2051a3",
   "metadata": {},
   "outputs": [
    {
     "data": {
      "text/html": [
       "<div>\n",
       "<style scoped>\n",
       "    .dataframe tbody tr th:only-of-type {\n",
       "        vertical-align: middle;\n",
       "    }\n",
       "\n",
       "    .dataframe tbody tr th {\n",
       "        vertical-align: top;\n",
       "    }\n",
       "\n",
       "    .dataframe thead th {\n",
       "        text-align: right;\n",
       "    }\n",
       "</style>\n",
       "<table border=\"1\" class=\"dataframe\">\n",
       "  <thead>\n",
       "    <tr style=\"text-align: right;\">\n",
       "      <th></th>\n",
       "      <th>Average TCP retransmission</th>\n",
       "      <th>Average RTT</th>\n",
       "      <th>Average throughput</th>\n",
       "      <th>clusters</th>\n",
       "    </tr>\n",
       "  </thead>\n",
       "  <tbody>\n",
       "    <tr>\n",
       "      <th>11</th>\n",
       "      <td>6034.635000</td>\n",
       "      <td>221.0</td>\n",
       "      <td>34805.0</td>\n",
       "      <td>1</td>\n",
       "    </tr>\n",
       "    <tr>\n",
       "      <th>20</th>\n",
       "      <td>9865.591000</td>\n",
       "      <td>97.0</td>\n",
       "      <td>40058.0</td>\n",
       "      <td>1</td>\n",
       "    </tr>\n",
       "    <tr>\n",
       "      <th>30</th>\n",
       "      <td>13903.897665</td>\n",
       "      <td>76.0</td>\n",
       "      <td>33242.0</td>\n",
       "      <td>1</td>\n",
       "    </tr>\n",
       "    <tr>\n",
       "      <th>43</th>\n",
       "      <td>236.155000</td>\n",
       "      <td>72.0</td>\n",
       "      <td>26416.0</td>\n",
       "      <td>1</td>\n",
       "    </tr>\n",
       "    <tr>\n",
       "      <th>46</th>\n",
       "      <td>1166.993000</td>\n",
       "      <td>120.0</td>\n",
       "      <td>35276.0</td>\n",
       "      <td>1</td>\n",
       "    </tr>\n",
       "    <tr>\n",
       "      <th>...</th>\n",
       "      <td>...</td>\n",
       "      <td>...</td>\n",
       "      <td>...</td>\n",
       "      <td>...</td>\n",
       "    </tr>\n",
       "    <tr>\n",
       "      <th>149974</th>\n",
       "      <td>21569.572935</td>\n",
       "      <td>41.0</td>\n",
       "      <td>24023.0</td>\n",
       "      <td>1</td>\n",
       "    </tr>\n",
       "    <tr>\n",
       "      <th>149975</th>\n",
       "      <td>630.334000</td>\n",
       "      <td>82.0</td>\n",
       "      <td>33958.0</td>\n",
       "      <td>1</td>\n",
       "    </tr>\n",
       "    <tr>\n",
       "      <th>149979</th>\n",
       "      <td>3031.227000</td>\n",
       "      <td>76.0</td>\n",
       "      <td>59282.0</td>\n",
       "      <td>1</td>\n",
       "    </tr>\n",
       "    <tr>\n",
       "      <th>149980</th>\n",
       "      <td>8465.599000</td>\n",
       "      <td>90.0</td>\n",
       "      <td>48120.0</td>\n",
       "      <td>1</td>\n",
       "    </tr>\n",
       "    <tr>\n",
       "      <th>149990</th>\n",
       "      <td>5.058000</td>\n",
       "      <td>58.0</td>\n",
       "      <td>30804.0</td>\n",
       "      <td>1</td>\n",
       "    </tr>\n",
       "  </tbody>\n",
       "</table>\n",
       "<p>29300 rows × 4 columns</p>\n",
       "</div>"
      ],
      "text/plain": [
       "        Average TCP retransmission  Average RTT  Average throughput  clusters\n",
       "11                     6034.635000        221.0             34805.0         1\n",
       "20                     9865.591000         97.0             40058.0         1\n",
       "30                    13903.897665         76.0             33242.0         1\n",
       "43                      236.155000         72.0             26416.0         1\n",
       "46                     1166.993000        120.0             35276.0         1\n",
       "...                            ...          ...                 ...       ...\n",
       "149974                21569.572935         41.0             24023.0         1\n",
       "149975                  630.334000         82.0             33958.0         1\n",
       "149979                 3031.227000         76.0             59282.0         1\n",
       "149980                 8465.599000         90.0             48120.0         1\n",
       "149990                    5.058000         58.0             30804.0         1\n",
       "\n",
       "[29300 rows x 4 columns]"
      ]
     },
     "execution_count": 26,
     "metadata": {},
     "output_type": "execute_result"
    }
   ],
   "source": [
    "df_cluster_less_engaged"
   ]
  },
  {
   "cell_type": "markdown",
   "id": "67fa6520",
   "metadata": {},
   "source": [
    "###### less engaged cluster on normalized data "
   ]
  },
  {
   "cell_type": "code",
   "execution_count": 27,
   "id": "913f59a8",
   "metadata": {},
   "outputs": [],
   "source": [
    "df_norm = pd.DataFrame(standarlized_data,columns=df_used.iloc[:,:-1].columns.tolist())"
   ]
  },
  {
   "cell_type": "code",
   "execution_count": 29,
   "id": "5dc6a561",
   "metadata": {},
   "outputs": [],
   "source": [
    "df_norm['clusters'] =kmeans.labels_"
   ]
  },
  {
   "cell_type": "code",
   "execution_count": 30,
   "id": "d1a1cbee",
   "metadata": {},
   "outputs": [
    {
     "data": {
      "text/html": [
       "<div>\n",
       "<style scoped>\n",
       "    .dataframe tbody tr th:only-of-type {\n",
       "        vertical-align: middle;\n",
       "    }\n",
       "\n",
       "    .dataframe tbody tr th {\n",
       "        vertical-align: top;\n",
       "    }\n",
       "\n",
       "    .dataframe thead th {\n",
       "        text-align: right;\n",
       "    }\n",
       "</style>\n",
       "<table border=\"1\" class=\"dataframe\">\n",
       "  <thead>\n",
       "    <tr style=\"text-align: right;\">\n",
       "      <th></th>\n",
       "      <th>Average TCP retransmission</th>\n",
       "      <th>Average RTT</th>\n",
       "      <th>Average throughput</th>\n",
       "      <th>clusters</th>\n",
       "    </tr>\n",
       "  </thead>\n",
       "  <tbody>\n",
       "    <tr>\n",
       "      <th>0</th>\n",
       "      <td>0.004965</td>\n",
       "      <td>0.175373</td>\n",
       "      <td>0.000925</td>\n",
       "      <td>2</td>\n",
       "    </tr>\n",
       "    <tr>\n",
       "      <th>1</th>\n",
       "      <td>0.004965</td>\n",
       "      <td>0.261194</td>\n",
       "      <td>0.000580</td>\n",
       "      <td>2</td>\n",
       "    </tr>\n",
       "    <tr>\n",
       "      <th>2</th>\n",
       "      <td>0.004965</td>\n",
       "      <td>0.475592</td>\n",
       "      <td>0.000207</td>\n",
       "      <td>0</td>\n",
       "    </tr>\n",
       "    <tr>\n",
       "      <th>3</th>\n",
       "      <td>0.004965</td>\n",
       "      <td>0.475592</td>\n",
       "      <td>0.001214</td>\n",
       "      <td>0</td>\n",
       "    </tr>\n",
       "    <tr>\n",
       "      <th>4</th>\n",
       "      <td>0.004965</td>\n",
       "      <td>0.475592</td>\n",
       "      <td>0.000207</td>\n",
       "      <td>0</td>\n",
       "    </tr>\n",
       "    <tr>\n",
       "      <th>...</th>\n",
       "      <td>...</td>\n",
       "      <td>...</td>\n",
       "      <td>...</td>\n",
       "      <td>...</td>\n",
       "    </tr>\n",
       "    <tr>\n",
       "      <th>149996</th>\n",
       "      <td>0.004965</td>\n",
       "      <td>0.119403</td>\n",
       "      <td>0.001615</td>\n",
       "      <td>2</td>\n",
       "    </tr>\n",
       "    <tr>\n",
       "      <th>149997</th>\n",
       "      <td>0.004965</td>\n",
       "      <td>0.108209</td>\n",
       "      <td>0.001063</td>\n",
       "      <td>2</td>\n",
       "    </tr>\n",
       "    <tr>\n",
       "      <th>149998</th>\n",
       "      <td>0.004965</td>\n",
       "      <td>0.182836</td>\n",
       "      <td>0.001242</td>\n",
       "      <td>2</td>\n",
       "    </tr>\n",
       "    <tr>\n",
       "      <th>149999</th>\n",
       "      <td>0.004965</td>\n",
       "      <td>0.156716</td>\n",
       "      <td>0.000980</td>\n",
       "      <td>2</td>\n",
       "    </tr>\n",
       "    <tr>\n",
       "      <th>150000</th>\n",
       "      <td>0.004965</td>\n",
       "      <td>0.475592</td>\n",
       "      <td>0.207986</td>\n",
       "      <td>0</td>\n",
       "    </tr>\n",
       "  </tbody>\n",
       "</table>\n",
       "<p>150001 rows × 4 columns</p>\n",
       "</div>"
      ],
      "text/plain": [
       "        Average TCP retransmission  Average RTT  Average throughput  clusters\n",
       "0                         0.004965     0.175373            0.000925         2\n",
       "1                         0.004965     0.261194            0.000580         2\n",
       "2                         0.004965     0.475592            0.000207         0\n",
       "3                         0.004965     0.475592            0.001214         0\n",
       "4                         0.004965     0.475592            0.000207         0\n",
       "...                            ...          ...                 ...       ...\n",
       "149996                    0.004965     0.119403            0.001615         2\n",
       "149997                    0.004965     0.108209            0.001063         2\n",
       "149998                    0.004965     0.182836            0.001242         2\n",
       "149999                    0.004965     0.156716            0.000980         2\n",
       "150000                    0.004965     0.475592            0.207986         0\n",
       "\n",
       "[150001 rows x 4 columns]"
      ]
     },
     "execution_count": 30,
     "metadata": {},
     "output_type": "execute_result"
    }
   ],
   "source": [
    "df_norm"
   ]
  },
  {
   "cell_type": "code",
   "execution_count": null,
   "id": "e5776589",
   "metadata": {},
   "outputs": [],
   "source": [
    "df_norm_less_engaged_clusters = "
   ]
  }
 ],
 "metadata": {
  "kernelspec": {
   "display_name": "Python 3",
   "language": "python",
   "name": "python3"
  },
  "language_info": {
   "codemirror_mode": {
    "name": "ipython",
    "version": 3
   },
   "file_extension": ".py",
   "mimetype": "text/x-python",
   "name": "python",
   "nbconvert_exporter": "python",
   "pygments_lexer": "ipython3",
   "version": "3.8.8"
  }
 },
 "nbformat": 4,
 "nbformat_minor": 5
}
