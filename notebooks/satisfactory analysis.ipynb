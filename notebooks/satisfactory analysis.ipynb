{
 "cells": [
  {
   "cell_type": "code",
   "execution_count": 1,
   "id": "42d6c137",
   "metadata": {},
   "outputs": [],
   "source": [
    "import warnings \n",
    "import pandas as pd\n",
    "import numpy as np\n",
    "import sys\n",
    "sys.path.append(\"..\")\n",
    "import seaborn as sns\n",
    "import matplotlib.pyplot as plt \n",
    "from sklearn.cluster import KMeans\n",
    "warnings.filterwarnings(\"ignore\")"
   ]
  },
  {
   "cell_type": "code",
   "execution_count": 2,
   "id": "27830dfd",
   "metadata": {},
   "outputs": [],
   "source": [
    "from scripts.data_read import read_data\n",
    "from scripts.normalization import normalize_data"
   ]
  },
  {
   "cell_type": "code",
   "execution_count": 8,
   "id": "5936a8dd",
   "metadata": {},
   "outputs": [
    {
     "data": {
      "text/html": [
       "<div>\n",
       "<style scoped>\n",
       "    .dataframe tbody tr th:only-of-type {\n",
       "        vertical-align: middle;\n",
       "    }\n",
       "\n",
       "    .dataframe tbody tr th {\n",
       "        vertical-align: top;\n",
       "    }\n",
       "\n",
       "    .dataframe thead th {\n",
       "        text-align: right;\n",
       "    }\n",
       "</style>\n",
       "<table border=\"1\" class=\"dataframe\">\n",
       "  <thead>\n",
       "    <tr style=\"text-align: right;\">\n",
       "      <th></th>\n",
       "      <th>MSISDN/Number</th>\n",
       "      <th>Handset Type</th>\n",
       "      <th>Average TCP retransmission</th>\n",
       "      <th>Average RTT</th>\n",
       "      <th>Average throughput</th>\n",
       "    </tr>\n",
       "  </thead>\n",
       "  <tbody>\n",
       "    <tr>\n",
       "      <th>0</th>\n",
       "      <td>33664962239</td>\n",
       "      <td>Samsung Galaxy A5 Sm-A520F</td>\n",
       "      <td>21569.572935</td>\n",
       "      <td>47.000000</td>\n",
       "      <td>67.0</td>\n",
       "    </tr>\n",
       "    <tr>\n",
       "      <th>1</th>\n",
       "      <td>33681854413</td>\n",
       "      <td>Samsung Galaxy J5 (Sm-J530)</td>\n",
       "      <td>21569.572935</td>\n",
       "      <td>70.000000</td>\n",
       "      <td>42.0</td>\n",
       "    </tr>\n",
       "    <tr>\n",
       "      <th>2</th>\n",
       "      <td>33760627129</td>\n",
       "      <td>Samsung Galaxy A8 (2018)</td>\n",
       "      <td>21569.572935</td>\n",
       "      <td>127.458589</td>\n",
       "      <td>15.0</td>\n",
       "    </tr>\n",
       "    <tr>\n",
       "      <th>3</th>\n",
       "      <td>33750343200</td>\n",
       "      <td>undefined</td>\n",
       "      <td>21569.572935</td>\n",
       "      <td>127.458589</td>\n",
       "      <td>88.0</td>\n",
       "    </tr>\n",
       "    <tr>\n",
       "      <th>4</th>\n",
       "      <td>33699795932</td>\n",
       "      <td>Samsung Sm-G390F</td>\n",
       "      <td>21569.572935</td>\n",
       "      <td>127.458589</td>\n",
       "      <td>15.0</td>\n",
       "    </tr>\n",
       "  </tbody>\n",
       "</table>\n",
       "</div>"
      ],
      "text/plain": [
       "   MSISDN/Number                 Handset Type  Average TCP retransmission  \\\n",
       "0    33664962239   Samsung Galaxy A5 Sm-A520F                21569.572935   \n",
       "1    33681854413  Samsung Galaxy J5 (Sm-J530)                21569.572935   \n",
       "2    33760627129     Samsung Galaxy A8 (2018)                21569.572935   \n",
       "3    33750343200                    undefined                21569.572935   \n",
       "4    33699795932             Samsung Sm-G390F                21569.572935   \n",
       "\n",
       "   Average RTT  Average throughput  \n",
       "0    47.000000                67.0  \n",
       "1    70.000000                42.0  \n",
       "2   127.458589                15.0  \n",
       "3   127.458589                88.0  \n",
       "4   127.458589                15.0  "
      ]
     },
     "execution_count": 8,
     "metadata": {},
     "output_type": "execute_result"
    }
   ],
   "source": [
    "df = read_data(\"../data/experience_data.csv\")\n",
    "df.head()"
   ]
  },
  {
   "cell_type": "code",
   "execution_count": 9,
   "id": "a229d69e",
   "metadata": {},
   "outputs": [
    {
     "data": {
      "text/plain": [
       "MSISDN/Number                 0\n",
       "Handset Type                  0\n",
       "Average TCP retransmission    0\n",
       "Average RTT                   0\n",
       "Average throughput            0\n",
       "dtype: int64"
      ]
     },
     "execution_count": 9,
     "metadata": {},
     "output_type": "execute_result"
    }
   ],
   "source": [
    "df.isna().sum()"
   ]
  }
 ],
 "metadata": {
  "kernelspec": {
   "display_name": "Python 3",
   "language": "python",
   "name": "python3"
  },
  "language_info": {
   "codemirror_mode": {
    "name": "ipython",
    "version": 3
   },
   "file_extension": ".py",
   "mimetype": "text/x-python",
   "name": "python",
   "nbconvert_exporter": "python",
   "pygments_lexer": "ipython3",
   "version": "3.8.8"
  }
 },
 "nbformat": 4,
 "nbformat_minor": 5
}
