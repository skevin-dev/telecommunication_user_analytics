{
 "cells": [
  {
   "cell_type": "code",
   "execution_count": 1,
   "id": "42d6c137",
   "metadata": {},
   "outputs": [],
   "source": [
    "import warnings \n",
    "import pandas as pd\n",
    "import numpy as np\n",
    "import sys\n",
    "sys.path.append(\"..\")\n",
    "import seaborn as sns\n",
    "import matplotlib.pyplot as plt \n",
    "from sklearn.cluster import KMeans\n",
    "warnings.filterwarnings(\"ignore\")"
   ]
  },
  {
   "cell_type": "code",
   "execution_count": 2,
   "id": "27830dfd",
   "metadata": {},
   "outputs": [],
   "source": [
    "from scripts.data_read import read_data"
   ]
  },
  {
   "cell_type": "code",
   "execution_count": 3,
   "id": "5936a8dd",
   "metadata": {},
   "outputs": [],
   "source": [
    "df = read_data(\"../data/cleaned_data.xlsx\")"
   ]
  },
  {
   "cell_type": "code",
   "execution_count": null,
   "id": "3d369317",
   "metadata": {},
   "outputs": [],
   "source": [
    "df_uncleaned = read_data('../data/Week1_challenge_data_source.xlsx')"
   ]
  },
  {
   "cell_type": "code",
   "execution_count": null,
   "id": "fe8af171",
   "metadata": {},
   "outputs": [],
   "source": [
    "df =  df.loc[:, ~df.columns.str.contains('^Unnamed')]"
   ]
  },
  {
   "cell_type": "code",
   "execution_count": null,
   "id": "7a750304",
   "metadata": {},
   "outputs": [],
   "source": [
    "df.head()"
   ]
  },
  {
   "cell_type": "code",
   "execution_count": null,
   "id": "42e47b21",
   "metadata": {},
   "outputs": [],
   "source": [
    "for i,j in enumerate(df_uncleaned.columns):\n",
    "    print(i,j)"
   ]
  },
  {
   "cell_type": "code",
   "execution_count": null,
   "id": "07292911",
   "metadata": {},
   "outputs": [],
   "source": [
    "#add tcp rows to the cleaned dataset \n",
    "df['TCP DL Retrans. Vol (Bytes)'] = df_uncleaned['TCP DL Retrans. Vol (Bytes)']\n",
    "df['TCP UL Retrans. Vol (Bytes)'] = df_uncleaned['TCP UL Retrans. Vol (Bytes)']"
   ]
  },
  {
   "cell_type": "code",
   "execution_count": null,
   "id": "2f3d9049",
   "metadata": {},
   "outputs": [],
   "source": [
    "df"
   ]
  },
  {
   "cell_type": "code",
   "execution_count": null,
   "id": "c87505f4",
   "metadata": {},
   "outputs": [],
   "source": [
    "df.info()"
   ]
  },
  {
   "cell_type": "code",
   "execution_count": null,
   "id": "d60b3d3d",
   "metadata": {},
   "outputs": [],
   "source": [
    "#filling missing values in added column with mean\n",
    "for i in df.iloc[:,-2:].columns:\n",
    "    df[i].fillna(df[i].mean(),inplace=True)"
   ]
  },
  {
   "cell_type": "code",
   "execution_count": null,
   "id": "d93261cb",
   "metadata": {},
   "outputs": [],
   "source": [
    "df.isna().sum()"
   ]
  },
  {
   "cell_type": "code",
   "execution_count": null,
   "id": "d7669caf",
   "metadata": {},
   "outputs": [],
   "source": [
    "#create columns\n",
    "df['Average TCP retransmission'] = df['TCP DL Retrans. Vol (Bytes)']/1000 + df['TCP UL Retrans. Vol (Bytes)']/1000\n",
    "df['Average RTT'] = df['Avg RTT DL (ms)'] + df['Avg RTT UL (ms)']\n",
    "df['Average throughput'] = df['Avg Bearer TP DL (kbps)'] + df['Avg Bearer TP UL (kbps)']"
   ]
  },
  {
   "cell_type": "code",
   "execution_count": null,
   "id": "2dcc20cc",
   "metadata": {},
   "outputs": [],
   "source": [
    "for i,j in enumerate(df.columns):\n",
    "    print(i,j)"
   ]
  },
  {
   "cell_type": "code",
   "execution_count": null,
   "id": "822f0669",
   "metadata": {},
   "outputs": [],
   "source": [
    "#slicing usefull data \n",
    "df_experience = df.iloc[:,np.r_[7,26,47:50]]\n",
    "df_experience"
   ]
  },
  {
   "cell_type": "markdown",
   "id": "16dd1652",
   "metadata": {},
   "source": [
    "###### aggregation per customer "
   ]
  },
  {
   "cell_type": "code",
   "execution_count": null,
   "id": "aab0990f",
   "metadata": {},
   "outputs": [],
   "source": [
    "df_aggregated = df_experience.groupby('MSISDN/Number').agg({'Average TCP retransmission':'sum','Average RTT':'sum','Average throughput':'sum'})"
   ]
  },
  {
   "cell_type": "markdown",
   "id": "a1c368a5",
   "metadata": {},
   "source": [
    "#### top 10 "
   ]
  },
  {
   "cell_type": "code",
   "execution_count": null,
   "id": "cf9b5fc5",
   "metadata": {},
   "outputs": [],
   "source": [
    "for i,j in zip(np.arange(0,4).tolist(),df_aggregated.columns):\n",
    "    print(df_aggregated.iloc[:,i:i+1].sort_values(by=j,ascending=False).head(10))\n",
    "    print('*'*50)\n",
    "    "
   ]
  },
  {
   "cell_type": "markdown",
   "id": "9578bc50",
   "metadata": {},
   "source": [
    "##### bottom 10"
   ]
  },
  {
   "cell_type": "code",
   "execution_count": null,
   "id": "dc28ba98",
   "metadata": {},
   "outputs": [],
   "source": [
    "for i,j in zip(np.arange(0,4).tolist(),df_aggregated.columns):\n",
    "    print(df_aggregated.iloc[:,i:i+1].sort_values(by=j,ascending=False).tail(10))\n",
    "    print('*'*50)"
   ]
  },
  {
   "cell_type": "markdown",
   "id": "6e35c2e3",
   "metadata": {},
   "source": [
    "###### aggregation per  Handset Type"
   ]
  },
  {
   "cell_type": "markdown",
   "id": "0501bafb",
   "metadata": {},
   "source": [
    "###### top 10 "
   ]
  },
  {
   "cell_type": "code",
   "execution_count": null,
   "id": "ddc77c97",
   "metadata": {},
   "outputs": [],
   "source": [
    "df_aggregated_ = df_experience.groupby('Handset Type').agg({'Average throughput':'sum'})"
   ]
  },
  {
   "cell_type": "code",
   "execution_count": null,
   "id": "08ba821a",
   "metadata": {},
   "outputs": [],
   "source": [
    "df_aggregated_.sort_values(by='Average throughput',ascending=False).head(10)"
   ]
  },
  {
   "cell_type": "code",
   "execution_count": null,
   "id": "84281dbf",
   "metadata": {},
   "outputs": [],
   "source": [
    "df_aggregated__ = df_experience.groupby('Handset Type').agg({'Average TCP retransmission':'sum'})"
   ]
  },
  {
   "cell_type": "code",
   "execution_count": null,
   "id": "174f2c1b",
   "metadata": {},
   "outputs": [],
   "source": [
    "df_aggregated__.sort_values(by='Average TCP retransmission',ascending=False).head(10)"
   ]
  },
  {
   "cell_type": "markdown",
   "id": "142fe225",
   "metadata": {},
   "source": [
    "###### bottom 10"
   ]
  },
  {
   "cell_type": "code",
   "execution_count": null,
   "id": "fa55aa63",
   "metadata": {},
   "outputs": [],
   "source": [
    "df_aggregated__.sort_values(by='Average TCP retransmission',ascending=False).tail(10)"
   ]
  },
  {
   "cell_type": "code",
   "execution_count": null,
   "id": "0478812d",
   "metadata": {},
   "outputs": [],
   "source": [
    "df_aggregated_.sort_values(by='Average throughput',ascending=False).tail(10)"
   ]
  },
  {
   "cell_type": "markdown",
   "id": "75ee7848",
   "metadata": {},
   "source": [
    "##### clustering  "
   ]
  },
  {
   "cell_type": "code",
   "execution_count": null,
   "id": "efa4d2be",
   "metadata": {},
   "outputs": [],
   "source": [
    "df_aggregated"
   ]
  },
  {
   "cell_type": "code",
   "execution_count": null,
   "id": "9cfeb4a9",
   "metadata": {},
   "outputs": [],
   "source": [
    "kmeans = KMeans(n_clusters=3, random_state=0).fit(df_aggregated)"
   ]
  },
  {
   "cell_type": "code",
   "execution_count": null,
   "id": "12c759c8",
   "metadata": {},
   "outputs": [],
   "source": [
    "kmeans.labels_"
   ]
  },
  {
   "cell_type": "code",
   "execution_count": null,
   "id": "410b3ec0",
   "metadata": {},
   "outputs": [],
   "source": [
    "df_aggregated['clusters'] = kmeans.labels_"
   ]
  },
  {
   "cell_type": "code",
   "execution_count": null,
   "id": "01d54fba",
   "metadata": {},
   "outputs": [],
   "source": [
    "df_aggregated"
   ]
  },
  {
   "cell_type": "code",
   "execution_count": null,
   "id": "10b79eb4",
   "metadata": {},
   "outputs": [],
   "source": [
    "df_aggregated['clusters'].value_counts().plot(kind='bar')\n",
    "plt.xlabel('clusters');"
   ]
  },
  {
   "cell_type": "code",
   "execution_count": null,
   "id": "7d607b16",
   "metadata": {},
   "outputs": [],
   "source": [
    "df_experience.to_csv('../data/experience_data.csv',index=False)"
   ]
  }
 ],
 "metadata": {
  "kernelspec": {
   "display_name": "Python 3",
   "language": "python",
   "name": "python3"
  },
  "language_info": {
   "codemirror_mode": {
    "name": "ipython",
    "version": 3
   },
   "file_extension": ".py",
   "mimetype": "text/x-python",
   "name": "python",
   "nbconvert_exporter": "python",
   "pygments_lexer": "ipython3",
   "version": "3.8.8"
  }
 },
 "nbformat": 4,
 "nbformat_minor": 5
}
